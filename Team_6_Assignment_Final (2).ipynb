{
 "cells": [
  {
   "cell_type": "code",
   "execution_count": 1,
   "metadata": {},
   "outputs": [],
   "source": [
    "#These are the libraries you can use.  You may add any libraries directy related to threading if this is a direction\n",
    "#you wish to go (this is not from the course, so it's entirely on you if you wish to use threading).  Any\n",
    "#further libraries you wish to use you must email me, james@uwaterloo.ca, for permission.\n",
    "\n",
    "from IPython.display import display, Math, Latex\n",
    "\n",
    "import pandas as pd\n",
    "import numpy as np\n",
    "import yfinance as yf\n",
    "import matplotlib.pyplot as plt\n",
    "from datetime import datetime\n",
    "from concurrent.futures import ThreadPoolExecutor, as_completed\n",
    "import traceback\n",
    "import cvxpy as cp # pip install cvxpy[GUROBI]\n",
    "import time"
   ]
  },
  {
   "cell_type": "markdown",
   "metadata": {},
   "source": [
    "## Group Assignment\n",
    "### Team Number: 6\n",
    "### Team Member Names: Lakshya, Shrey, Tanisha\n",
    "### Team Strategy Chosen: Market Meet"
   ]
  },
  {
   "cell_type": "markdown",
   "metadata": {},
   "source": [
    "Disclose any use of AI for this assignment below (detail where and how you used it).  Please see the course outline for acceptable uses of AI.\n"
   ]
  },
  {
   "cell_type": "markdown",
   "metadata": {},
   "source": [
    "1. **\"Fixing TimeZone Warning\"** - Used to remove the timezone warnings after running the check_ticker function.\n",
    "       https://chatgpt.com/share/67365e1c-fa18-800b-92b9-c9c474055395 \n",
    "2. Used AI to assist in creating the portfolio vs index graph\n",
    "3. Used AI to assist in creating the initial strategy and checking over the cvxpy constraints "
   ]
  },
  {
   "cell_type": "markdown",
   "metadata": {},
   "source": [
    "**Please ensure that the following library and its corresponding extra package are installed before running the code below!**\n",
    "- pip install cvxpy\n",
    "- pip install \"cvxpy[GUROBI]\""
   ]
  },
  {
   "cell_type": "markdown",
   "metadata": {},
   "source": [
    "**Note**\n",
    "\n",
    "The values in the comments are subject to change as they are dependent on the closing prices the day the code was ran and the time period that was used to get the historical returns of the stock and the indexes. However, the analysis is based upon those prices and reflect our overall thought process. "
   ]
  },
  {
   "cell_type": "markdown",
   "metadata": {},
   "source": [
    "## What is our Strategy?"
   ]
  },
  {
   "cell_type": "markdown",
   "metadata": {},
   "source": [
    "We have decided to go with the **Market Meet** strategy. \n",
    "This means that we must create a portfolio which tracks the index average as close as possible for the duration of the testing period.\n",
    "To do so, we consider the following variables when selecting our most optimal portfolio:\n",
    "1. Implied Volatility\n",
    "    - This is a metric which captures the market's view of the likelihood of future changes in a given security's price (Ganti)\n",
    "2. Beta\n",
    "    - A measure of systematic risk; we want this value to be as close to 1 as possible for each stock in the portfolio\n",
    "      - A Beta of 1 indicates that the Stock moves perfectly with the indices\n",
    "      - Using the formula we learned in class\n",
    "3. Tracking Error Variance\n",
    "    - This is the most important variable as it denotes the difference between the price behavriour of a portfolio in comparison to a benchmark.\n",
    "    - Our goal is to minimize this as much as possible when selecting our optimal portfolio.\n",
    "\n",
    "\n",
    "\n",
    "------------\n",
    "###### Ganti, Akhilesh. “How Implied Volatility (IV) Works with Options and Examples.” Investopedia, 2024, www.investopedia.com/terms/i/iv.asp. Accessed 21 Nov. 2024.\n",
    "\n",
    "‌"
   ]
  },
  {
   "cell_type": "markdown",
   "metadata": {},
   "source": [
    "This chunk of code pulls the Tickers from the CSV file.\n",
    "- The tickers are ran through a for loop which selects and removes all delisted and inavlid stocks that it finds.\n",
    "- The valid tickers left over are then stored in a list."
   ]
  },
  {
   "cell_type": "code",
   "execution_count": 2,
   "metadata": {},
   "outputs": [
    {
     "name": "stderr",
     "output_type": "stream",
     "text": [
      "$ASDFAASDF.TO: possibly delisted; no price data found  (period=1d) (Yahoo error = \"No data found, symbol may be delisted\")\n",
      "$INVALIDTIC: possibly delisted; no price data found  (period=1d) (Yahoo error = \"No data found, symbol may be delisted\")\n",
      "$HDFC.NS: possibly delisted; no price data found  (period=1d) (Yahoo error = \"No data found, symbol may be delisted\")\n",
      "$CELG: possibly delisted; no price data found  (period=1d) (Yahoo error = \"No data found, symbol may be delisted\")\n"
     ]
    }
   ],
   "source": [
    "# Reading the CSV File and assigning the names of a stock to a Column\n",
    "tickers_df = pd.read_csv('Tickers.csv', names=['Ticker'])\n",
    "# Converting to a list\n",
    "tickers_list = tickers_df['Ticker'].tolist()\n",
    "\n",
    "# Start and end date as per the assignment\n",
    "start_date = '2023-10-01'\n",
    "end_date = '2024-09-30'\n",
    "\n",
    "\n",
    "valid_tickers = [] # Empty list which will store all valid tickers\n",
    "for ticker in tickers_list:\n",
    "    try:\n",
    "        # Check if the ticker has historical data\n",
    "        data = yf.Ticker(ticker).history(period=\"1d\")\n",
    "        time.sleep(0.3) \n",
    "        if not data.empty:\n",
    "            valid_tickers.append(ticker)  # Add to valid tickers if data exists\n",
    "    except Exception as e:\n",
    "        print(f\"Error with ticker {ticker}: {e}\")\n",
    "\n",
    "# Reassigning tickers_list with the ones that are valid\n",
    "tickers_list = set(valid_tickers)"
   ]
  },
  {
   "cell_type": "code",
   "execution_count": 3,
   "metadata": {},
   "outputs": [
    {
     "data": {
      "text/plain": [
       "{'AAPL',\n",
       " 'ABBV',\n",
       " 'AMZN',\n",
       " 'AUST',\n",
       " 'AW.TO',\n",
       " 'AXP',\n",
       " 'BAC',\n",
       " 'BK',\n",
       " 'CMCSA',\n",
       " 'COST',\n",
       " 'CSCO',\n",
       " 'CVS',\n",
       " 'DUOL',\n",
       " 'GC=F',\n",
       " 'GM',\n",
       " 'GOOG',\n",
       " 'HOOD',\n",
       " 'IBM',\n",
       " 'JPM',\n",
       " 'LOW',\n",
       " 'ORCL',\n",
       " 'OXY',\n",
       " 'PEP',\n",
       " 'RY.TO',\n",
       " 'SHOP',\n",
       " 'SHOP.TO',\n",
       " 'SLB',\n",
       " 'SO',\n",
       " 'SPG',\n",
       " 'SQ',\n",
       " 'T.TO',\n",
       " 'TD.TO',\n",
       " 'VZ'}"
      ]
     },
     "execution_count": 3,
     "metadata": {},
     "output_type": "execute_result"
    }
   ],
   "source": [
    "tickers_list"
   ]
  },
  {
   "cell_type": "markdown",
   "metadata": {},
   "source": [
    "The check_ticker function takes care of the housekeeping details which are necessary to create a valid Portfolio. It filters out the following:\n",
    "1. Months with less than 18 trading days\n",
    "2. Stocks that do not meet the monthly volume restriction (of at least 100,000 shares)\n",
    "3. Stocks traded in currencies that aren't USD or CAD\n",
    "\n",
    "It cleans up the stock list such that the following algorithms can run without producing errors. "
   ]
  },
  {
   "cell_type": "code",
   "execution_count": 4,
   "metadata": {},
   "outputs": [],
   "source": [
    "# check_ticker is a function which checks the validity of a Ticker based on a the following criteria to determine if valid\n",
    "def check_ticker(ticker):\n",
    "    try:\n",
    "        stock_info = yf.Ticker(ticker).info\n",
    "\n",
    "        # If the stock doesn't trade in USD or CAD\n",
    "        currency = stock_info.get('currency', None)\n",
    "        if currency not in ['USD', 'CAD']:\n",
    "            return None\n",
    "        \n",
    "        # Check if the stock is valid and has sufficient data\n",
    "        if not stock_info or not stock_info.get(\"symbol\"):\n",
    "            print(f\"{ticker} is invalid or does not exist.\")\n",
    "            return None\n",
    "            \n",
    "        stock_data = yf.Ticker(ticker).history(period=\"1y\")\n",
    "\n",
    "        # Checking if any data can be pulled\n",
    "        if stock_data.empty:\n",
    "            return None\n",
    "        \n",
    "        # AI Usage here (1)\n",
    "        stock_data.index = stock_data.index.tz_localize(None)\n",
    "        stock_data['Month'] = stock_data.index.to_period('M')\n",
    "\n",
    "        # Taking care of the 18+ trading days restriction\n",
    "        monthly_volume = stock_data.groupby('Month')['Volume'].mean()\n",
    "        valid_months = stock_data.groupby('Month').size() >= 18\n",
    "        monthly_volume = monthly_volume[valid_months]\n",
    "        \n",
    "        # Taking care of the monthly volume restriction\n",
    "        if monthly_volume.mean() >= 100_000:\n",
    "            if not stock_data.empty:\n",
    "                stock_data = stock_data[['Close']].dropna()\n",
    "                stock_data.rename(columns={'Close': ticker}, inplace=True)\n",
    "                return ticker, currency, stock_data\n",
    "\n",
    "    # Rrror handling\n",
    "    except Exception as e:\n",
    "        print(f\"Error processing {ticker}: {e}\")\n",
    "        traceback.print_exc()\n",
    "    return None"
   ]
  },
  {
   "cell_type": "markdown",
   "metadata": {},
   "source": [
    "The use of threading below allows us to run the check_ticker function much faster than simply using a **for loop** and going through each time, by running the function multiple times concurrently instead of sequentially. \n",
    "- Reduces time taken to compile the Portfolio."
   ]
  },
  {
   "cell_type": "code",
   "execution_count": 5,
   "metadata": {},
   "outputs": [
    {
     "name": "stderr",
     "output_type": "stream",
     "text": [
      "AW.TO: Period '1y' is invalid, must be one of ['1d', '5d', '1mo', '3mo', 'ytd', 'max']\n"
     ]
    }
   ],
   "source": [
    "portfolios = [] # New DataFrame for the portfolios\n",
    "currencies = {} # New dictionary\n",
    "\n",
    "# Executes check_ticker in parallel with every ticker to improve performance\n",
    "# Results are stored in 'currencies' and 'portfolios'\n",
    "with ThreadPoolExecutor() as executor:\n",
    "    futures = [executor.submit(check_ticker, ticker) for ticker in tickers_list]\n",
    "    for future in as_completed(futures):\n",
    "        result = future.result()\n",
    "        if result is not None:\n",
    "            currencies[result[0]] = result[1]\n",
    "            portfolios.append(result[2])"
   ]
  },
  {
   "cell_type": "code",
   "execution_count": 6,
   "metadata": {},
   "outputs": [
    {
     "name": "stdout",
     "output_type": "stream",
     "text": [
      "{'T.TO': 'CAD', 'JPM': 'USD', 'COST': 'USD', 'SLB': 'USD', 'AXP': 'USD', 'SQ': 'USD', 'SHOP.TO': 'CAD', 'LOW': 'USD', 'SHOP': 'USD', 'BAC': 'USD', 'TD.TO': 'CAD', 'RY.TO': 'CAD', 'IBM': 'USD', 'ORCL': 'USD', 'CVS': 'USD', 'DUOL': 'USD', 'PEP': 'USD', 'ABBV': 'USD', 'SPG': 'USD', 'BK': 'USD', 'SO': 'USD', 'AAPL': 'USD', 'GOOG': 'USD', 'AMZN': 'USD', 'VZ': 'USD', 'CSCO': 'USD', 'HOOD': 'USD', 'GM': 'USD', 'AUST': 'USD', 'OXY': 'USD', 'CMCSA': 'USD'}\n"
     ]
    }
   ],
   "source": [
    "print(currencies)"
   ]
  },
  {
   "cell_type": "code",
   "execution_count": 7,
   "metadata": {},
   "outputs": [],
   "source": [
    "# Combines the data for all stocks into a single dataframe\n",
    "stock_p = pd.concat(portfolios, axis=1)\n",
    "stock_p.dropna(inplace=True)\n",
    "stock_p.index = stock_p.index.strftime('%Y-%m-%d')\n",
    "stock_p.index = pd.to_datetime(stock_p.index)\n",
    "\n",
    "# The total # of stocks selected\n",
    "num_stocks = len(stock_p.columns)"
   ]
  },
  {
   "cell_type": "code",
   "execution_count": 8,
   "metadata": {},
   "outputs": [],
   "source": [
    "# Gets the indices data and stores that in a dataframe\n",
    "idx_p = yf.Tickers(['^GSPC', 'XIU.TO']).history(period=\"1y\", progress=False)\n",
    "idx_p = idx_p.loc[:, 'Close']\n",
    "idx_p.dropna(inplace=True)\n",
    "idx_p.index = idx_p.index.strftime('%Y-%m-%d')\n",
    "idx_p.index = pd.to_datetime(idx_p.index)"
   ]
  },
  {
   "cell_type": "code",
   "execution_count": 10,
   "metadata": {},
   "outputs": [],
   "source": [
    "# Calculates the stock and index returns and a matrix of covariances\n",
    "stock_returns = stock_p.pct_change().dropna()\n",
    "index_returns = idx_p.pct_change().dropna().mean(axis=1)\n",
    "stock_returns = stock_returns.loc[index_returns.index]\n",
    "\n",
    "cov_matrix = stock_returns.cov().to_numpy()\n",
    "cov_vector = np.array([stock_returns[col].cov(index_returns) for col in stock_returns.columns])\n",
    "index_variance = index_returns.var()\n",
    "\n",
    "#print(stock_returns)\n",
    "#print(cov_vector)\n",
    "\n",
    "#plt.plot(stock_returns.index, portfolio_value.values, label='Portfolio Value')\n",
    "#plt.plot(index_value.index, index_value.values, label='Hypothetical Index Value')"
   ]
  },
  {
   "cell_type": "markdown",
   "metadata": {},
   "source": [
    "The index variance represents the overall volatility of the average returns of the TSX60 and S&P500. For the stocks in the example file provided over the time period we calculated it over, the value we found was 4.678*10^-5, indicating that the indices have an extremely low volatility. This number is what the calc_portfolio_weights function will attempt to match.\n",
    "\n",
    "The covariance vector stores the covariance between each stock in the list and the index variance. From the example file, it can be seen that the stocks have extremely low covariances with the index, ranging from factors of 10^-4 to 10^-6. It is important to note that the values themselves are percentages so these small covariance values make sense. \n",
    "\n",
    "Nonetheless, we can logically take the **highest covariances** out of these values (ie. the ones with the strongest correlation to the index) and weigh them more in comparison to others. \n",
    "- This is part of the calculation that is done on the matrices in the calc_portfolio_weights function."
   ]
  },
  {
   "cell_type": "code",
   "execution_count": 11,
   "metadata": {},
   "outputs": [],
   "source": [
    "def historical_volatility(ticker):\n",
    "    # Calculates the volatility based on past stock data\n",
    "    # Only used if option data is not available\n",
    "    data = yf.Ticker(ticker).history(period=\"1y\")\n",
    "    returns = data['Close'].pct_change().dropna()\n",
    "    volatility = returns.std()\n",
    "    return volatility * 10\n",
    "\n",
    "\n",
    "# Takes in a ticker, current date, expiration date\n",
    "# Returns the average implied volatility for an at-the-money call option and an at the money put option\n",
    "\n",
    "def implied_volatility(ticker, expiration_date):\n",
    "    \n",
    "    us_ticker = ticker.replace('.TO', '')\n",
    "    stock = yf.Ticker(us_ticker)\n",
    "    stock_price = stock.history(period=\"1d\")['Close'].iloc[-1]\n",
    "\n",
    "    try:\n",
    "        option_chain = stock.option_chain(expiration_date)\n",
    "    except Exception as e:\n",
    "        print(f\"Could not find options that expire on the date: {expiration_date}\", e)\n",
    "        print(f\"Returning historical volatility\")\n",
    "        return historical_volatility(ticker)\n",
    "\n",
    "    calls = option_chain.calls\n",
    "    puts = option_chain.puts\n",
    "\n",
    "    # Takes the difference between the strike price and stock price\n",
    "    # Argsort returns the index of the option with the smallest difference (closest to being at the money)\n",
    "    closest_call = calls.iloc[(calls['strike'] - stock_price).abs().argsort()[:1]]\n",
    "    closest_put = puts.iloc[(puts['strike'] - stock_price).abs().argsort()[:1]]\n",
    "\n",
    "    # print(closest_call)\n",
    "    \n",
    "    try:\n",
    "        call_iv = closest_call['impliedVolatility'].values[0]\n",
    "        put_iv = closest_put['impliedVolatility'].values[0]\n",
    "        avg_iv = pd.Series([call_iv, put_iv]).mean()  \n",
    "        return avg_iv\n",
    "    except IndexError:\n",
    "        print(f\"Could not find options that expire on the date: {expiration_date}\")\n",
    "        return None"
   ]
  },
  {
   "cell_type": "code",
   "execution_count": 12,
   "metadata": {},
   "outputs": [
    {
     "name": "stdout",
     "output_type": "stream",
     "text": [
      "Could not find options that expire on the date: 2024-11-29 Expiration `2024-11-29` cannot be found. Available expirations are: [2024-12-20, 2025-01-17, 2025-03-21, 2025-04-17, 2025-07-18, 2026-01-16, 2027-01-15]\n",
      "Returning historical volatility\n",
      "Could not find options that expire on the date: 2024-11-29 Expiration `2024-11-29` cannot be found. Available expirations are: [2024-12-20, 2025-01-17, 2025-03-21, 2025-04-17, 2025-07-18, 2026-01-16, 2027-01-15]\n",
      "Returning historical volatility\n",
      "Could not find options that expire on the date: 2024-11-29 Expiration `2024-11-29` cannot be found. Available expirations are: [2024-12-20, 2025-01-17, 2025-02-21, 2025-05-16, 2026-01-16, 2027-01-15]\n",
      "Returning historical volatility\n",
      "Could not find options that expire on the date: 2024-11-29 Expiration `2024-11-29` cannot be found. Available expirations are: [2024-12-20, 2025-01-17, 2025-04-17, 2025-06-20, 2025-07-18, 2025-09-19, 2025-12-19, 2026-01-16, 2027-01-15]\n",
      "Returning historical volatility\n",
      "Could not find options that expire on the date: 2024-11-29 Expiration `2024-11-29` cannot be found. Available expirations are: [2024-12-20, 2025-01-17, 2025-03-21, 2025-06-20, 2025-09-19, 2026-01-16, 2027-01-15]\n",
      "Returning historical volatility\n",
      "Could not find options that expire on the date: 2024-11-29 Expiration `2024-11-29` cannot be found. Available expirations are: []\n",
      "Returning historical volatility\n"
     ]
    },
    {
     "data": {
      "image/png": "[encoded data removed]",
      "text/plain": [
       "<Figure size 1000x600 with 1 Axes>"
      ]
     },
     "metadata": {},
     "output_type": "display_data"
    }
   ],
   "source": [
    "volatilities_i = [implied_volatility(stock, '2024-11-29') for stock in stock_p.columns] # Stores implied volatility\n",
    "volatilities_h = [historical_volatility(stock) for stock in stock_p.columns] # Stores historical volatility\n",
    "\n",
    "# Plotting the results to see the difference in behaviour of the stock\n",
    "plt.figure(figsize=(10, 6))\n",
    "plt.scatter(volatilities_i, cov_vector, color='green', label='Implied Volatility')\n",
    "plt.scatter(volatilities_h, cov_vector, color='blue', label='Historical Volatility')\n",
    "plt.xlabel(\"Volatility\")\n",
    "plt.ylabel(\"Covariance with Benchmark\")\n",
    "plt.title(\"Covariance with Benchmark vs. Stock Volatility\")\n",
    "plt.legend(loc=\"upper right\")  # Adds the legend\n",
    "plt.grid(True)\n",
    "plt.show()"
   ]
  },
  {
   "cell_type": "markdown",
   "metadata": {},
   "source": [
    "#### What does this tell us about how we should pick our ideal stocks for the Portfolio?\n",
    "At the same time, as per the graph above, we want to **minimize volatility** because the average market indices are less volatile in general. While the trend of the graph appears to skew towards extremely low volatility, stocks that are on the *upper-left to middle-left* should be prioritized by the calc_portfolio_weights function in order to maximize covariance but minimize volatility and therefore minimize error. \n",
    "- Further, stocks with extremely low covariance or high volatility should be avoided.\n",
    "\n",
    "#### How do we handle the Volatility calculations?\n",
    "The calculations for volatility were based off the **implied volatility** of an at-the-money call and put option. \n",
    "- Some stocks do not have options traded on them or trade them less frequently, so as a backup, volatility was simply calculated using the standard deviation of the close prices.\n",
    "- Instead of doing the historical volatility calculation on all stocks, we used the implied volatilty because it reflects the market's expectations for future price fluctuations; the market has come to a consensus about the future volatility of that stock. \n",
    "\n",
    "#### Link to Graph\n",
    "The graph also reflects this trend; the implied volatility values skew more towards the left because the market expects less volatility in the future than the past, while the historical volatility is all over the place because it simply takes in the standard deviation, which can vary from stock to stock. Additionally, since we're trying to match the S&P500 in the future, the implied volatility makes more sense because it is forward-looking. Additionally, it's interesting that the graph shows that as the volatility (either IV or historical) of a stock increases, it tends to have a slightly higher covariance with the index, which makes sense, as stocks that trade very flat or experience few price movements, may not be well correlated with the indexes, which tend to trend upwards over time."
   ]
  },
  {
   "cell_type": "code",
   "execution_count": 13,
   "metadata": {},
   "outputs": [
    {
     "name": "stdout",
     "output_type": "stream",
     "text": [
      "Could not find options that expire on the date: 2024-11-29 Expiration `2024-11-29` cannot be found. Available expirations are: [2024-12-20, 2025-01-17, 2025-03-21, 2025-04-17, 2025-07-18, 2026-01-16, 2027-01-15]\n",
      "Returning historical volatility\n",
      "Could not find options that expire on the date: 2024-11-29 Expiration `2024-11-29` cannot be found. Available expirations are: [2024-12-20, 2025-01-17, 2025-03-21, 2025-04-17, 2025-07-18, 2026-01-16, 2027-01-15]\n",
      "Returning historical volatility\n",
      "Could not find options that expire on the date: 2024-11-29 Expiration `2024-11-29` cannot be found. Available expirations are: [2024-12-20, 2025-01-17, 2025-02-21, 2025-05-16, 2026-01-16, 2027-01-15]\n",
      "Returning historical volatility\n",
      "Could not find options that expire on the date: 2024-11-29 Expiration `2024-11-29` cannot be found. Available expirations are: [2024-12-20, 2025-01-17, 2025-04-17, 2025-06-20, 2025-07-18, 2025-09-19, 2025-12-19, 2026-01-16, 2027-01-15]\n",
      "Returning historical volatility\n",
      "Could not find options that expire on the date: 2024-11-29 Expiration `2024-11-29` cannot be found. Available expirations are: [2024-12-20, 2025-01-17, 2025-03-21, 2025-06-20, 2025-09-19, 2026-01-16, 2027-01-15]\n",
      "Returning historical volatility\n",
      "Could not find options that expire on the date: 2024-11-29 Expiration `2024-11-29` cannot be found. Available expirations are: []\n",
      "Returning historical volatility\n"
     ]
    }
   ],
   "source": [
    "# An array of implied volatilities as calculated in terms of expiration date\n",
    "IVs = np.array([implied_volatility(col, '2024-11-29') for col in stock_p.columns])"
   ]
  },
  {
   "cell_type": "markdown",
   "metadata": {},
   "source": [
    "#### Calculating Beta\n",
    "The below function calculates the **Beta** of each stock relative to the returns of the indices.\n",
    "- We want a beta as close as possible to 1, which indicates that the stock moves extremely similarly to the market.\n",
    "- These values are used in the next function to compare each stock from the list to one another and the benchmark."
   ]
  },
  {
   "cell_type": "code",
   "execution_count": 14,
   "metadata": {},
   "outputs": [
    {
     "name": "stdout",
     "output_type": "stream",
     "text": [
      "[0.21246846 0.99619767 0.84395035 1.11928337 1.28186212 2.37939683\n",
      " 2.23183388 0.95945329 2.43049276 1.2228416  0.66667714 0.72378431\n",
      " 0.86686983 1.44014992 0.53534404 2.11266035 0.09809671 0.23434415\n",
      " 0.91986801 0.90180196 0.08762898 0.97618693 1.17188398 1.62538546\n",
      " 0.10441528 0.79801293 2.84449643 1.27974758 0.05812558 0.76515951\n",
      " 0.66557462]\n"
     ]
    }
   ],
   "source": [
    "# Using the formula from class - the benchmark is the Index Variance\n",
    "betas = cov_vector / index_variance\n",
    "print(betas)\n",
    "#len(betas)"
   ]
  },
  {
   "cell_type": "markdown",
   "metadata": {},
   "source": [
    "### The Main Function: How we selected the best stocks for our Portfolio\n",
    "The calc_portfolio_weights function takes in the number of desired stocks (from 12-24), and the Implied Value Constant and Beta constant, and through analysis via cvxpy's GUROBI solver, returning the tracking error variance (TEV) for the optimal selection of each number of stocks. The constants reflect the factors applied to the IV and beta values, which determine their relative importance to the actual TEV.\n",
    "\n",
    "- In this case, *optimal* means the lowest TEV in comparison with the index returns, meaning that the portfolio with returns closest to the index average returns over the given time period will be chosen. It will then run this for all numbers of stocks between 12-24, and ultimately choose the portfolio which produces the lowest TEV. The TEV, as indicated in the comments below, is based upon the variance of the portfolio returns minus the index returns, which is based upon the known formula of Variance(A-B).\n",
    "- The constraints that are given to the solver ensure that the weights and the total number of stocks chosen adhere to the given requirements.\n",
    "- Further, the Implied Volatility of the stock is only weighed using a factor 1e-6 whereas the Beta is weighed with a factor of 1e-5. This is because the Beta of a stock is likely more useful to us as it gives a measurement of the stocks price movements in relation to the index, whereas the IV is simply an expected measure of change in the stocks price over a given time period. These values are rather small, since the actual tracking error tends to be in the magnitude of N*10^-5 or 10^-6, so it has a similar impact on the chosen weights as the tracking error itself.\n",
    "\n",
    "Once the portfolio is chosen, the rest of the code outputs it to a DataFrame and exports it to csv as per the requirements of the assignment. \n",
    "- Some more functions are used to print some statistics and final information about the stocks selected."
   ]
  },
  {
   "cell_type": "code",
   "execution_count": 15,
   "metadata": {},
   "outputs": [],
   "source": [
    "# Finds the optimal weights of portfolios\n",
    "def calc_portfolio_weights(n, IV_const=1e-6, beta_target=1, beta_const=1e-5):\n",
    "    x = cp.Variable(num_stocks, boolean=True) # whether a stock is included or not\n",
    "    w = cp.Variable(num_stocks) # the weight of each stock in the portfolio\n",
    "\n",
    "    # The various constraints we will place on the optimization function\n",
    "    constraints = [] \n",
    "\n",
    "    # Only an n number of stocks should be selected in the portfolio\n",
    "    constraints.append(cp.sum(x) == n) \n",
    "\n",
    "    # Additional weight restrictions\n",
    "    min_weight_value = 1 / (2 * n)\n",
    "    max_weight = 0.15\n",
    "\n",
    "    # Appending that to the constraints list\n",
    "    constraints += [w >= min_weight_value * x]\n",
    "    constraints += [w <= max_weight * x]\n",
    "\n",
    "    # The sum of weights should be equal to 1 and greater than 0\n",
    "    constraints.append(cp.sum(w) == 1)\n",
    "    constraints.append(w >= 0)\n",
    "\n",
    "    # Formula that calculates the tracking error of a matrices\n",
    "    ''' \n",
    "    https://en.wikipedia.org/wiki/Tracking_error\n",
    "    Var(X - Y) = Var(X) + Var(Y) - 2Cov(X, Y)\n",
    "    TEV = Var(R_p - R_i) = Var(R_p) - 2 * Cov(R_p, R_i) + Var(R_i)\n",
    "    w = portfolio weights\n",
    "    Σ = covariance matrix (n x n)\n",
    "        - represents the covariance between each pair of assets in the portfolio\n",
    "    Var(R_p) = w.T @ Σ @ w = quad_form(w, Σ)\n",
    "\n",
    "    Cov vector = \n",
    "    [\n",
    "        Cov(R_1, R_i),\n",
    "        Cov(R_2, R_i),\n",
    "        Cov(R_3, R_i),\n",
    "        ...\n",
    "        Cov(R_n, R_i)\n",
    "    ] where n is the number of assets in the portfolio\n",
    "     - Multiply by the weight vector to account for the asset weights\n",
    "\n",
    "    index variance is calculated using pandas\n",
    "    '''\n",
    "\n",
    "    # Beta calculation used as a penalty as too low of a Beta is invaluable to our Portfolio\n",
    "    beta_portfolio = w @ betas\n",
    "    beta_penalty = beta_const * (beta_portfolio - beta_target)\n",
    "    \n",
    "    # The variance between the portfolio return and benchmarking index\n",
    "    tracking_error_variance = cp.quad_form(w, cov_matrix) - 2 * w @ cov_vector + index_variance\n",
    "\n",
    "    # Implied Volatility used as a penalty as a stock that is too volatile as not valuable to our Portfolio\n",
    "    IV_penalty = IV_const * w @ IVs\n",
    "    \n",
    "    # what we want the cvxpy analysis to do, which is minimize the variance and implied-volatility penalty\n",
    "    objective = cp.Minimize(tracking_error_variance + IV_penalty + beta_penalty)\n",
    "\n",
    "    # this command summarizes the problem in one step, adding the constraints as well\n",
    "    problem = cp.Problem(objective, constraints)\n",
    "\n",
    "    try:\n",
    "        # Solving the problem\n",
    "        problem.solve(solver=cp.GUROBI)\n",
    "    except:\n",
    "        problem.solve()\n",
    "\n",
    "    # When the problem is at optimal status, return the ideal values\n",
    "    if problem.status == cp.OPTIMAL:\n",
    "        cur_TEV = problem.value\n",
    "        solution = (w.value, x.value)\n",
    "        return cur_TEV, solution \n",
    "    else:\n",
    "        return None\n",
    "        "
   ]
  },
  {
   "cell_type": "code",
   "execution_count": 16,
   "metadata": {},
   "outputs": [
    {
     "name": "stdout",
     "output_type": "stream",
     "text": [
      "Restricted license - for non-production use only - expires 2025-11-24\n"
     ]
    }
   ],
   "source": [
    "solutions = {}\n",
    "\n",
    "# Use threading to run the function for every value of n from 12-24, to find the optimal value\n",
    "with ThreadPoolExecutor() as executor:\n",
    "    futures = [executor.submit(calc_portfolio_weights, i) for i in range(12, 25)]\n",
    "    for future in as_completed(futures):\n",
    "        result = future.result()\n",
    "        if result is not None:\n",
    "            solutions[result[0]] = result[1]\n"
   ]
  },
  {
   "cell_type": "code",
   "execution_count": 17,
   "metadata": {},
   "outputs": [
    {
     "name": "stdout",
     "output_type": "stream",
     "text": [
      "Optimal number of stocks (n): 22\n",
      "Tracking Error Variance: 5.990489095659954e-06\n",
      "Selected Portfolio:\n"
     ]
    },
    {
     "data": {
      "text/html": [
       "<div>\n",
       "<style scoped>\n",
       "    .dataframe tbody tr th:only-of-type {\n",
       "        vertical-align: middle;\n",
       "    }\n",
       "\n",
       "    .dataframe tbody tr th {\n",
       "        vertical-align: top;\n",
       "    }\n",
       "\n",
       "    .dataframe thead th {\n",
       "        text-align: right;\n",
       "    }\n",
       "</style>\n",
       "<table border=\"1\" class=\"dataframe\">\n",
       "  <thead>\n",
       "    <tr style=\"text-align: right;\">\n",
       "      <th></th>\n",
       "      <th>Ticker</th>\n",
       "      <th>Weight</th>\n",
       "    </tr>\n",
       "  </thead>\n",
       "  <tbody>\n",
       "    <tr>\n",
       "      <th>0</th>\n",
       "      <td>T.TO</td>\n",
       "      <td>0.069390</td>\n",
       "    </tr>\n",
       "    <tr>\n",
       "      <th>1</th>\n",
       "      <td>JPM</td>\n",
       "      <td>0.038753</td>\n",
       "    </tr>\n",
       "    <tr>\n",
       "      <th>2</th>\n",
       "      <td>COST</td>\n",
       "      <td>0.085443</td>\n",
       "    </tr>\n",
       "    <tr>\n",
       "      <th>3</th>\n",
       "      <td>SLB</td>\n",
       "      <td>0.034196</td>\n",
       "    </tr>\n",
       "    <tr>\n",
       "      <th>4</th>\n",
       "      <td>AXP</td>\n",
       "      <td>0.022727</td>\n",
       "    </tr>\n",
       "    <tr>\n",
       "      <th>5</th>\n",
       "      <td>SHOP.TO</td>\n",
       "      <td>0.022727</td>\n",
       "    </tr>\n",
       "    <tr>\n",
       "      <th>6</th>\n",
       "      <td>LOW</td>\n",
       "      <td>0.044344</td>\n",
       "    </tr>\n",
       "    <tr>\n",
       "      <th>7</th>\n",
       "      <td>TD.TO</td>\n",
       "      <td>0.084736</td>\n",
       "    </tr>\n",
       "    <tr>\n",
       "      <th>8</th>\n",
       "      <td>RY.TO</td>\n",
       "      <td>0.150000</td>\n",
       "    </tr>\n",
       "    <tr>\n",
       "      <th>9</th>\n",
       "      <td>IBM</td>\n",
       "      <td>0.026217</td>\n",
       "    </tr>\n",
       "    <tr>\n",
       "      <th>10</th>\n",
       "      <td>ORCL</td>\n",
       "      <td>0.031228</td>\n",
       "    </tr>\n",
       "    <tr>\n",
       "      <th>11</th>\n",
       "      <td>DUOL</td>\n",
       "      <td>0.022727</td>\n",
       "    </tr>\n",
       "    <tr>\n",
       "      <th>12</th>\n",
       "      <td>PEP</td>\n",
       "      <td>0.035232</td>\n",
       "    </tr>\n",
       "    <tr>\n",
       "      <th>13</th>\n",
       "      <td>ABBV</td>\n",
       "      <td>0.022727</td>\n",
       "    </tr>\n",
       "    <tr>\n",
       "      <th>14</th>\n",
       "      <td>SO</td>\n",
       "      <td>0.022727</td>\n",
       "    </tr>\n",
       "    <tr>\n",
       "      <th>15</th>\n",
       "      <td>AAPL</td>\n",
       "      <td>0.067616</td>\n",
       "    </tr>\n",
       "    <tr>\n",
       "      <th>16</th>\n",
       "      <td>GOOG</td>\n",
       "      <td>0.040882</td>\n",
       "    </tr>\n",
       "    <tr>\n",
       "      <th>17</th>\n",
       "      <td>AMZN</td>\n",
       "      <td>0.064876</td>\n",
       "    </tr>\n",
       "    <tr>\n",
       "      <th>18</th>\n",
       "      <td>VZ</td>\n",
       "      <td>0.022727</td>\n",
       "    </tr>\n",
       "    <tr>\n",
       "      <th>19</th>\n",
       "      <td>CSCO</td>\n",
       "      <td>0.022727</td>\n",
       "    </tr>\n",
       "    <tr>\n",
       "      <th>20</th>\n",
       "      <td>GM</td>\n",
       "      <td>0.022727</td>\n",
       "    </tr>\n",
       "    <tr>\n",
       "      <th>21</th>\n",
       "      <td>OXY</td>\n",
       "      <td>0.045267</td>\n",
       "    </tr>\n",
       "  </tbody>\n",
       "</table>\n",
       "</div>"
      ],
      "text/plain": [
       "     Ticker    Weight\n",
       "0      T.TO  0.069390\n",
       "1       JPM  0.038753\n",
       "2      COST  0.085443\n",
       "3       SLB  0.034196\n",
       "4       AXP  0.022727\n",
       "5   SHOP.TO  0.022727\n",
       "6       LOW  0.044344\n",
       "7     TD.TO  0.084736\n",
       "8     RY.TO  0.150000\n",
       "9       IBM  0.026217\n",
       "10     ORCL  0.031228\n",
       "11     DUOL  0.022727\n",
       "12      PEP  0.035232\n",
       "13     ABBV  0.022727\n",
       "14       SO  0.022727\n",
       "15     AAPL  0.067616\n",
       "16     GOOG  0.040882\n",
       "17     AMZN  0.064876\n",
       "18       VZ  0.022727\n",
       "19     CSCO  0.022727\n",
       "20       GM  0.022727\n",
       "21      OXY  0.045267"
      ]
     },
     "execution_count": 17,
     "metadata": {},
     "output_type": "execute_result"
    }
   ],
   "source": [
    "# Takes the solution with the smallest variance\n",
    "min_TEV = min(solutions)\n",
    "best_solution = solutions[min_TEV]\n",
    "\n",
    "# Finds the optimal weights and optimal stocks\n",
    "optimal_weights = best_solution[0]\n",
    "optimal_selection = best_solution[1]\n",
    "\n",
    "# The final selected parameters\n",
    "selected_indices = [i for i, val in enumerate(optimal_selection) if val > 0.5]\n",
    "selected_stocks = stock_p.columns[selected_indices].tolist()\n",
    "selected_weights = optimal_weights[selected_indices]\n",
    "\n",
    "# The final portfolio dataframe\n",
    "portfolio = pd.DataFrame({\n",
    "    'Ticker': selected_stocks,\n",
    "    'Weight': selected_weights\n",
    "})\n",
    "\n",
    "print(\"Optimal number of stocks (n):\", len(selected_indices))\n",
    "print(\"Tracking Error Variance:\", min_TEV)\n",
    "print(\"Selected Portfolio:\")\n",
    "portfolio"
   ]
  },
  {
   "cell_type": "code",
   "execution_count": 18,
   "metadata": {},
   "outputs": [],
   "source": [
    "# Starting parameters\n",
    "investment = 1_000_000\n",
    "testing_start_date = '2024-11-22'\n",
    "testing_end_date = '2024-11-23'\n",
    "\n",
    "tickers = portfolio['Ticker'].tolist()\n",
    "prices = {}\n",
    "\n",
    "for ticker in tickers:\n",
    "    price = yf.Ticker(ticker).history(period=\"1d\")\n",
    "    if not price.empty:\n",
    "        prices[ticker] = price['Close'].iloc[0]\n",
    "\n",
    "# Exchange rate conversions\n",
    "fx = yf.Ticker('CADUSD=X').history(start=start_date, end=end_date)\n",
    "if not fx.empty:\n",
    "    cad_to_usd = fx['Close'].iloc[0]"
   ]
  },
  {
   "cell_type": "markdown",
   "metadata": {},
   "source": [
    "This function just provides some **descriptive statistics** about the Portfolio, like its average weight in each stock, the total # of stocks selected and the ones with the most and least weights."
   ]
  },
  {
   "cell_type": "code",
   "execution_count": 19,
   "metadata": {},
   "outputs": [
    {
     "name": "stdout",
     "output_type": "stream",
     "text": [
      "Portfolio Statistics:\n",
      "Number of stocks in Portfolio: 22\n",
      "Average Weight of Each Stock: 4.55%\n",
      "Largest Weight: RY.TO (15.00%)\n",
      "Smallest Weight: AXP (2.27%)\n"
     ]
    }
   ],
   "source": [
    "def portfolio_stats(pf):\n",
    "    print(\"Portfolio Statistics:\")\n",
    "    print(f\"Number of stocks in Portfolio: {len(pf)}\")\n",
    "    print(f\"Average Weight of Each Stock: {(pf['Weight'].mean()*100):.2f}%\")\n",
    "    print(f\"Largest Weight: {pf['Ticker'][pf['Weight'].idxmax()]} \"\n",
    "          f\"({pf['Weight'].max()*100:.2f}%)\")\n",
    "    print(f\"Smallest Weight: {portfolio['Ticker'][pf['Weight'].idxmin()]} \"\n",
    "          f\"({pf['Weight'].min()*100:.2f}%)\")\n",
    "\n",
    "portfolio_stats(portfolio)"
   ]
  },
  {
   "cell_type": "markdown",
   "metadata": {},
   "source": [
    "The **standardize_price** function ensures returns the CAD closing price of all the stocks and is used in further calculations. The rest of the code ensures that the total is $\\$1000000$, as expected. It also calculates the following:\n",
    "- Portfoltio Weights\n",
    "- Portfolio Value\n",
    "- Fees charged\n",
    "- Total Spent"
   ]
  },
  {
   "cell_type": "code",
   "execution_count": 20,
   "metadata": {},
   "outputs": [
    {
     "name": "stdout",
     "output_type": "stream",
     "text": [
      "\n",
      "The sum of weights is 1.0\n",
      "The total portfolio value is $999990.78\n",
      "plus fees of $9.22\n",
      "to give a total of $1000000.0\n",
      "\n"
     ]
    }
   ],
   "source": [
    "def standardize_price(ticker, currency):\n",
    "    domestic_price = prices[ticker]\n",
    "\n",
    "    if currency == 'USD':\n",
    "        return domestic_price / cad_to_usd\n",
    "    else:\n",
    "        return domestic_price\n",
    "    \n",
    "\n",
    "portfolio['Price'] = portfolio['Ticker'].map(prices)\n",
    "portfolio['Currency'] = portfolio['Ticker'].map(currencies)\n",
    "portfolio['Price_CAD'] = portfolio.apply(lambda x: standardize_price(x['Ticker'], x['Currency']), axis=1)\n",
    "portfolio['Value'] = investment * portfolio['Weight']\n",
    "\n",
    "portfolio['Shares'] = portfolio['Value'] / portfolio['Price_CAD']\n",
    "portfolio['Fee'] = portfolio['Shares'].apply(lambda x: min(3.95, 0.001 * x))\n",
    "portfolio['Value'] -= portfolio['Fee']\n",
    "portfolio['Shares'] = portfolio['Value'] / portfolio['Price_CAD']\n",
    "portfolio['Value'] = portfolio['Shares'] * portfolio['Price_CAD']\n",
    "portfolio['Weight'] = portfolio['Value'] / portfolio['Value'].sum()\n",
    "\n",
    "portfolio.index += 1\n",
    "\n",
    "info = f'''\n",
    "The sum of weights is {portfolio['Weight'].sum()}\n",
    "The total portfolio value is ${np.round(portfolio['Value'].sum(), 2)}\n",
    "plus fees of ${np.round(portfolio['Fee'].sum(), 2)}\n",
    "to give a total of ${np.round(portfolio['Value'].sum() + portfolio['Fee'].sum(), 2)}\n",
    "'''\n",
    "print(info)"
   ]
  },
  {
   "cell_type": "markdown",
   "metadata": {},
   "source": [
    "This is the Final Portfolio containing all the selected stocks, their weights, prices and other information."
   ]
  },
  {
   "cell_type": "code",
   "execution_count": 21,
   "metadata": {},
   "outputs": [
    {
     "data": {
      "text/html": [
       "<div>\n",
       "<style scoped>\n",
       "    .dataframe tbody tr th:only-of-type {\n",
       "        vertical-align: middle;\n",
       "    }\n",
       "\n",
       "    .dataframe tbody tr th {\n",
       "        vertical-align: top;\n",
       "    }\n",
       "\n",
       "    .dataframe thead th {\n",
       "        text-align: right;\n",
       "    }\n",
       "</style>\n",
       "<table border=\"1\" class=\"dataframe\">\n",
       "  <thead>\n",
       "    <tr style=\"text-align: right;\">\n",
       "      <th></th>\n",
       "      <th>Ticker</th>\n",
       "      <th>Price</th>\n",
       "      <th>Currency</th>\n",
       "      <th>Shares</th>\n",
       "      <th>Value</th>\n",
       "      <th>Weight</th>\n",
       "    </tr>\n",
       "  </thead>\n",
       "  <tbody>\n",
       "    <tr>\n",
       "      <th>1</th>\n",
       "      <td>T.TO</td>\n",
       "      <td>21.260000</td>\n",
       "      <td>CAD</td>\n",
       "      <td>3263.730680</td>\n",
       "      <td>69386.915012</td>\n",
       "      <td>0.069388</td>\n",
       "    </tr>\n",
       "    <tr>\n",
       "      <th>2</th>\n",
       "      <td>JPM</td>\n",
       "      <td>248.550003</td>\n",
       "      <td>USD</td>\n",
       "      <td>114.866585</td>\n",
       "      <td>38753.037333</td>\n",
       "      <td>0.038753</td>\n",
       "    </tr>\n",
       "    <tr>\n",
       "      <th>3</th>\n",
       "      <td>COST</td>\n",
       "      <td>964.010010</td>\n",
       "      <td>USD</td>\n",
       "      <td>65.297847</td>\n",
       "      <td>85443.429371</td>\n",
       "      <td>0.085444</td>\n",
       "    </tr>\n",
       "    <tr>\n",
       "      <th>4</th>\n",
       "      <td>SLB</td>\n",
       "      <td>44.230000</td>\n",
       "      <td>USD</td>\n",
       "      <td>569.576399</td>\n",
       "      <td>34195.360212</td>\n",
       "      <td>0.034196</td>\n",
       "    </tr>\n",
       "    <tr>\n",
       "      <th>5</th>\n",
       "      <td>AXP</td>\n",
       "      <td>301.299988</td>\n",
       "      <td>USD</td>\n",
       "      <td>55.571086</td>\n",
       "      <td>22727.217156</td>\n",
       "      <td>0.022727</td>\n",
       "    </tr>\n",
       "    <tr>\n",
       "      <th>6</th>\n",
       "      <td>SHOP.TO</td>\n",
       "      <td>149.479996</td>\n",
       "      <td>CAD</td>\n",
       "      <td>152.041218</td>\n",
       "      <td>22727.120685</td>\n",
       "      <td>0.022727</td>\n",
       "    </tr>\n",
       "    <tr>\n",
       "      <th>7</th>\n",
       "      <td>LOW</td>\n",
       "      <td>264.679993</td>\n",
       "      <td>USD</td>\n",
       "      <td>123.428970</td>\n",
       "      <td>44344.164849</td>\n",
       "      <td>0.044345</td>\n",
       "    </tr>\n",
       "    <tr>\n",
       "      <th>8</th>\n",
       "      <td>TD.TO</td>\n",
       "      <td>78.510002</td>\n",
       "      <td>CAD</td>\n",
       "      <td>1079.286165</td>\n",
       "      <td>84734.759086</td>\n",
       "      <td>0.084736</td>\n",
       "    </tr>\n",
       "    <tr>\n",
       "      <th>9</th>\n",
       "      <td>RY.TO</td>\n",
       "      <td>174.710007</td>\n",
       "      <td>CAD</td>\n",
       "      <td>858.560676</td>\n",
       "      <td>149999.141434</td>\n",
       "      <td>0.150001</td>\n",
       "    </tr>\n",
       "    <tr>\n",
       "      <th>10</th>\n",
       "      <td>IBM</td>\n",
       "      <td>222.970001</td>\n",
       "      <td>USD</td>\n",
       "      <td>86.625001</td>\n",
       "      <td>26217.299357</td>\n",
       "      <td>0.026218</td>\n",
       "    </tr>\n",
       "    <tr>\n",
       "      <th>11</th>\n",
       "      <td>ORCL</td>\n",
       "      <td>192.289993</td>\n",
       "      <td>USD</td>\n",
       "      <td>119.643861</td>\n",
       "      <td>31228.085950</td>\n",
       "      <td>0.031228</td>\n",
       "    </tr>\n",
       "    <tr>\n",
       "      <th>12</th>\n",
       "      <td>DUOL</td>\n",
       "      <td>351.970001</td>\n",
       "      <td>USD</td>\n",
       "      <td>47.571024</td>\n",
       "      <td>22727.225156</td>\n",
       "      <td>0.022727</td>\n",
       "    </tr>\n",
       "    <tr>\n",
       "      <th>13</th>\n",
       "      <td>PEP</td>\n",
       "      <td>162.000000</td>\n",
       "      <td>USD</td>\n",
       "      <td>160.221664</td>\n",
       "      <td>35231.774309</td>\n",
       "      <td>0.035232</td>\n",
       "    </tr>\n",
       "    <tr>\n",
       "      <th>14</th>\n",
       "      <td>ABBV</td>\n",
       "      <td>176.949997</td>\n",
       "      <td>USD</td>\n",
       "      <td>94.622996</td>\n",
       "      <td>22727.178104</td>\n",
       "      <td>0.022727</td>\n",
       "    </tr>\n",
       "    <tr>\n",
       "      <th>15</th>\n",
       "      <td>SO</td>\n",
       "      <td>87.599998</td>\n",
       "      <td>USD</td>\n",
       "      <td>191.135479</td>\n",
       "      <td>22727.081590</td>\n",
       "      <td>0.022727</td>\n",
       "    </tr>\n",
       "    <tr>\n",
       "      <th>16</th>\n",
       "      <td>AAPL</td>\n",
       "      <td>229.869995</td>\n",
       "      <td>USD</td>\n",
       "      <td>216.705425</td>\n",
       "      <td>67616.133549</td>\n",
       "      <td>0.067617</td>\n",
       "    </tr>\n",
       "    <tr>\n",
       "      <th>17</th>\n",
       "      <td>GOOG</td>\n",
       "      <td>166.570007</td>\n",
       "      <td>USD</td>\n",
       "      <td>180.814242</td>\n",
       "      <td>40881.582812</td>\n",
       "      <td>0.040882</td>\n",
       "    </tr>\n",
       "    <tr>\n",
       "      <th>18</th>\n",
       "      <td>AMZN</td>\n",
       "      <td>197.119995</td>\n",
       "      <td>USD</td>\n",
       "      <td>242.468804</td>\n",
       "      <td>64876.111564</td>\n",
       "      <td>0.064877</td>\n",
       "    </tr>\n",
       "    <tr>\n",
       "      <th>19</th>\n",
       "      <td>VZ</td>\n",
       "      <td>43.150002</td>\n",
       "      <td>USD</td>\n",
       "      <td>388.026003</td>\n",
       "      <td>22726.884695</td>\n",
       "      <td>0.022727</td>\n",
       "    </tr>\n",
       "    <tr>\n",
       "      <th>20</th>\n",
       "      <td>CSCO</td>\n",
       "      <td>58.549999</td>\n",
       "      <td>USD</td>\n",
       "      <td>285.967516</td>\n",
       "      <td>22726.986756</td>\n",
       "      <td>0.022727</td>\n",
       "    </tr>\n",
       "    <tr>\n",
       "      <th>21</th>\n",
       "      <td>GM</td>\n",
       "      <td>58.529999</td>\n",
       "      <td>USD</td>\n",
       "      <td>286.065233</td>\n",
       "      <td>22726.986658</td>\n",
       "      <td>0.022727</td>\n",
       "    </tr>\n",
       "    <tr>\n",
       "      <th>22</th>\n",
       "      <td>OXY</td>\n",
       "      <td>51.930000</td>\n",
       "      <td>USD</td>\n",
       "      <td>642.182412</td>\n",
       "      <td>45266.299739</td>\n",
       "      <td>0.045267</td>\n",
       "    </tr>\n",
       "  </tbody>\n",
       "</table>\n",
       "</div>"
      ],
      "text/plain": [
       "     Ticker       Price Currency       Shares          Value    Weight\n",
       "1      T.TO   21.260000      CAD  3263.730680   69386.915012  0.069388\n",
       "2       JPM  248.550003      USD   114.866585   38753.037333  0.038753\n",
       "3      COST  964.010010      USD    65.297847   85443.429371  0.085444\n",
       "4       SLB   44.230000      USD   569.576399   34195.360212  0.034196\n",
       "5       AXP  301.299988      USD    55.571086   22727.217156  0.022727\n",
       "6   SHOP.TO  149.479996      CAD   152.041218   22727.120685  0.022727\n",
       "7       LOW  264.679993      USD   123.428970   44344.164849  0.044345\n",
       "8     TD.TO   78.510002      CAD  1079.286165   84734.759086  0.084736\n",
       "9     RY.TO  174.710007      CAD   858.560676  149999.141434  0.150001\n",
       "10      IBM  222.970001      USD    86.625001   26217.299357  0.026218\n",
       "11     ORCL  192.289993      USD   119.643861   31228.085950  0.031228\n",
       "12     DUOL  351.970001      USD    47.571024   22727.225156  0.022727\n",
       "13      PEP  162.000000      USD   160.221664   35231.774309  0.035232\n",
       "14     ABBV  176.949997      USD    94.622996   22727.178104  0.022727\n",
       "15       SO   87.599998      USD   191.135479   22727.081590  0.022727\n",
       "16     AAPL  229.869995      USD   216.705425   67616.133549  0.067617\n",
       "17     GOOG  166.570007      USD   180.814242   40881.582812  0.040882\n",
       "18     AMZN  197.119995      USD   242.468804   64876.111564  0.064877\n",
       "19       VZ   43.150002      USD   388.026003   22726.884695  0.022727\n",
       "20     CSCO   58.549999      USD   285.967516   22726.986756  0.022727\n",
       "21       GM   58.529999      USD   286.065233   22726.986658  0.022727\n",
       "22      OXY   51.930000      USD   642.182412   45266.299739  0.045267"
      ]
     },
     "execution_count": 21,
     "metadata": {},
     "output_type": "execute_result"
    }
   ],
   "source": [
    "Portfolio_Final = portfolio.loc[:,['Ticker','Price','Currency','Shares','Value','Weight']]\n",
    "Portfolio_Final"
   ]
  },
  {
   "cell_type": "markdown",
   "metadata": {},
   "source": [
    "After adjusting for fees, some of the weights may be extremely slightly above or below the given weight limits. "
   ]
  },
  {
   "cell_type": "markdown",
   "metadata": {},
   "source": [
    "For one portfolio produced using the example Tickers file, the results make intuitive sense. For one, stocks are fairly equally weighted; since the market is so diversified, it makes sense to include a variety of stocks from a variety of industries in order to simulate the market. \n",
    "- An interesting observation can also be made; the RBC and TD Bank stocks make up nearly a quarter of the portfolio alone (on the Example Tickers file)\n",
    "  - This can be attributed to the fact that stocks in the financial industry tend to be very stable -- this was also seen in Assignment 3. "
   ]
  },
  {
   "cell_type": "code",
   "execution_count": 22,
   "metadata": {},
   "outputs": [],
   "source": [
    "Stocks_Final = portfolio[['Ticker', 'Shares']]\n",
    "filename = f\"Stocks_Group_06.csv\"\n",
    "Stocks_Final.to_csv(filename)"
   ]
  },
  {
   "cell_type": "code",
   "execution_count": 23,
   "metadata": {},
   "outputs": [
    {
     "name": "stdout",
     "output_type": "stream",
     "text": [
      "Average Ratio: 1.0083\n",
      "Portfolio Final Value: 1.3316116268483043\n",
      "Index Final Value: 1.3085288037886338\n"
     ]
    }
   ],
   "source": [
    "# Calculates the ratio of returns between the index and the selected portfolio\n",
    "\n",
    "index_cumulative_returns = [1]  \n",
    "stock_cumulative_returns = [1]\n",
    "\n",
    "# Calculates the cumulative returns on a day by day basis\n",
    "for i in range(1, len(index_returns)):\n",
    "    new_index_return = index_cumulative_returns[-1] * (1 + index_returns.iloc[i])\n",
    "    index_cumulative_returns.append(new_index_return)\n",
    "    \n",
    "    weighted_stock_return = (stock_returns[selected_stocks].iloc[i] * selected_weights).sum()\n",
    "    new_stock_return = stock_cumulative_returns[-1] * (1 + weighted_stock_return)\n",
    "    stock_cumulative_returns.append(new_stock_return)\n",
    "\n",
    "ratio = []\n",
    "for i in range(1, len(index_returns)):\n",
    "    ratio.append(stock_cumulative_returns[i]/index_cumulative_returns[i])\n",
    "\n",
    "avg_ratio = sum(ratio)/len(ratio)\n",
    "\n",
    "print(\"Average Ratio:\", round(avg_ratio, 4))\n",
    "print(\"Portfolio Final Value:\", stock_cumulative_returns[-1])\n",
    "print(\"Index Final Value:\", index_cumulative_returns[-1])"
   ]
  },
  {
   "cell_type": "markdown",
   "metadata": {},
   "source": [
    "We want Average Ratio here to be as close to 1 as possible since we want the Portfolio's to perform similarly to the Index and thus, a ratio of 1:1 would indicate that the stocks move perfectly in sync. \n",
    "- The closer the value is to one, the better the Portfolio meets the index average."
   ]
  },
  {
   "cell_type": "code",
   "execution_count": 24,
   "metadata": {},
   "outputs": [],
   "source": [
    "# Converts between currencies\n",
    "def convert_price(price, currency):\n",
    "    if currency == 'USD':\n",
    "        return price / cad_to_usd\n",
    "    else:\n",
    "        return price\n",
    "\n",
    "def compare_portfolio_to_index(portfolio_df, initial_investment, start_date, end_date):\n",
    "    \"\"\"\n",
    "    Compare the performance of a custom stock portfolio to a hypothetical index.\n",
    "\n",
    "    Parameters:\n",
    "    - portfolio_df: DataFrame with columns ['Ticker', 'Shares'].\n",
    "    - initial_investment: float, initial amount invested in the hypothetical index.\n",
    "    - start_date: str or datetime, start date of the analysis.\n",
    "    - end_date: str or datetime, end date of the analysis.\n",
    "\n",
    "    Returns:\n",
    "    - None (plots the portfolio value and index value over time).\n",
    "    \"\"\"\n",
    "    # Ensure the Ticker column is of string type\n",
    "    portfolio_df['Ticker'] = portfolio_df['Ticker'].astype(str)\n",
    "    \n",
    "    # Get list of tickers and shares\n",
    "    tickers = portfolio_df['Ticker'].tolist()\n",
    "    shares = portfolio_df['Shares'].tolist()\n",
    "    portfolio = dict(zip(tickers, shares))\n",
    "\n",
    "    # Download historical price data for portfolio stocks\n",
    "    stock_data = yf.download(tickers, start=start_date, end=end_date)['Close'].dropna()\n",
    "    \n",
    "    # Multiply the stock prices by the number of shares to get daily portfolio value\n",
    "    for ticker in tickers:\n",
    "        stock_data[ticker] = convert_price(stock_data[ticker], currencies[ticker]) * portfolio[ticker]\n",
    "\n",
    "    # Sum the values to get total portfolio value over time\n",
    "    portfolio_value = stock_data.sum(axis=1)\n",
    "    \n",
    "    # Download historical price data for S&P 500 and TSX 60 ETFs\n",
    "    # Using SPY (S&P 500 ETF) and XIU.TO (iShares S&P/TSX 60 ETF)\n",
    "    index_tickers = ['^GSPC', 'XIU.TO']\n",
    "    index_data = yf.download(index_tickers, start=start_date, end=end_date)['Close']\n",
    "\n",
    "    # Normalize the index prices to start at the same point\n",
    "    index_norm = index_data / index_data.iloc[0]\n",
    "\n",
    "    # Calculate the average normalized index value\n",
    "    index_avg = index_norm.mean(axis=1)\n",
    "\n",
    "    # Scale the index average by the initial investment\n",
    "    index_value = index_avg * initial_investment\n",
    "\n",
    "    # Plot the portfolio value and index value over time\n",
    "    plt.figure(figsize=(12, 6))\n",
    "    plt.plot(portfolio_value.index, portfolio_value.values, label='Portfolio Value')\n",
    "    plt.plot(index_value.index, index_value.values, label='Average Index Value')\n",
    "    plt.title('Portfolio vs. Average Index Performance')\n",
    "    plt.xlabel('Date')\n",
    "    plt.ylabel('Total Value ($)')\n",
    "    plt.legend()\n",
    "    plt.grid(True)\n",
    "    plt.show()"
   ]
  },
  {
   "cell_type": "code",
   "execution_count": 25,
   "metadata": {},
   "outputs": [
    {
     "name": "stderr",
     "output_type": "stream",
     "text": [
      "/tmp/ipykernel_203868/3650125714.py:22: SettingWithCopyWarning: \n",
      "A value is trying to be set on a copy of a slice from a DataFrame.\n",
      "Try using .loc[row_indexer,col_indexer] = value instead\n",
      "\n",
      "See the caveats in the documentation: https://pandas.pydata.org/pandas-docs/stable/user_guide/indexing.html#returning-a-view-versus-a-copy\n",
      "  portfolio_df['Ticker'] = portfolio_df['Ticker'].astype(str)\n",
      "[*********************100%***********************]  22 of 22 completed\n",
      "[*********************100%***********************]  2 of 2 completed\n"
     ]
    },
    {
     "data": {
      "image/png": "[encoded data removed]",
      "text/plain": [
       "<Figure size 1200x600 with 1 Axes>"
      ]
     },
     "metadata": {},
     "output_type": "display_data"
    }
   ],
   "source": [
    "compare_portfolio_to_index(Stocks_Final, investment, '2024-10-01', '2024-11-22')"
   ]
  },
  {
   "cell_type": "markdown",
   "metadata": {},
   "source": [
    "Note: The discrepancy between the Portfolio and Index Values occurs due to the fact that the close prices are pulled on November 22nd, 2024, which is what the number of shares for each stock is based upon, whereas the data is graphed starting on October 1st, 2024\n",
    "- However, it is evident that the values still move relatively in sync with one another."
   ]
  },
  {
   "cell_type": "markdown",
   "metadata": {},
   "source": [
    "From the graph and the avg_ratio calculated above, the model is extremely accurate over the time period of October 1, 2024 to November 14, 2024, for the given example tickers file. The average ratio is 1.018, meaning that the model is off by approximately 1.01%. \n",
    "\n",
    "Additionally, the time period chosen has resulted in there being increased market volatility overall, thanks to the U.S. general election and the surge and decline of various stocks as a result of the Republican majority. \n",
    "- This heightened market volatility provides an excellent test for the model, as it is being applied during a period of rather unpredictable stock behaviours and yet, managed to perform pretty well.\n",
    "- Despite the fluctuations caused by the election, the model's average error was low, showcasing that it was effective in predicting stock trends!"
   ]
  },
  {
   "cell_type": "markdown",
   "metadata": {},
   "source": [
    "## Contribution Declaration\n",
    "\n",
    "The following team members made a meaningful contribution to this assignment:\n",
    "\n",
    "Lakshya, Shrey, Tanisha"
   ]
  }
 ],
 "metadata": {
  "kernelspec": {
   "display_name": ".venv",
   "language": "python",
   "name": "python3"
  },
  "language_info": {
   "codemirror_mode": {
    "name": "ipython",
    "version": 3
   },
   "file_extension": ".py",
   "mimetype": "text/x-python",
   "name": "python",
   "nbconvert_exporter": "python",
   "pygments_lexer": "ipython3",
   "version": "3.11.9"
  }
 },
 "nbformat": 4,
 "nbformat_minor": 4
}
